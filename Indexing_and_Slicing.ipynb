{
  "nbformat": 4,
  "nbformat_minor": 0,
  "metadata": {
    "colab": {
      "provenance": []
    },
    "kernelspec": {
      "name": "python3",
      "display_name": "Python 3"
    },
    "language_info": {
      "name": "python"
    }
  },
  "cells": [
    {
      "cell_type": "markdown",
      "source": [
        "Indexing and Slicing in Python"
      ],
      "metadata": {
        "id": "GANi-B7GqRUv"
      }
    },
    {
      "cell_type": "code",
      "execution_count": null,
      "metadata": {
        "id": "4uUIRFTSvtKz"
      },
      "outputs": [],
      "source": [
        "a='United Nations'"
      ]
    },
    {
      "cell_type": "code",
      "source": [
        "a[3:]"
      ],
      "metadata": {
        "colab": {
          "base_uri": "https://localhost:8080/",
          "height": 36
        },
        "id": "qitblBU8v1Jx",
        "outputId": "bd147d27-5336-4750-81c6-e9811909f775"
      },
      "execution_count": null,
      "outputs": [
        {
          "output_type": "execute_result",
          "data": {
            "text/plain": [
              "'ted Nations'"
            ],
            "application/vnd.google.colaboratory.intrinsic+json": {
              "type": "string"
            }
          },
          "metadata": {},
          "execution_count": 13
        }
      ]
    },
    {
      "cell_type": "code",
      "source": [
        "a[-3:]"
      ],
      "metadata": {
        "colab": {
          "base_uri": "https://localhost:8080/",
          "height": 36
        },
        "id": "R4EIj8FSwGNk",
        "outputId": "f0874890-f02d-4282-feb4-6b3084bc10c8"
      },
      "execution_count": null,
      "outputs": [
        {
          "output_type": "execute_result",
          "data": {
            "text/plain": [
              "'ons'"
            ],
            "application/vnd.google.colaboratory.intrinsic+json": {
              "type": "string"
            }
          },
          "metadata": {},
          "execution_count": 14
        }
      ]
    },
    {
      "cell_type": "code",
      "source": [
        "l1=['India','USA','China','Russia']"
      ],
      "metadata": {
        "id": "7_FEJA42wZ0R"
      },
      "execution_count": null,
      "outputs": []
    },
    {
      "cell_type": "code",
      "source": [
        "l1[2:]"
      ],
      "metadata": {
        "colab": {
          "base_uri": "https://localhost:8080/"
        },
        "id": "hgeNlPsWwm8q",
        "outputId": "4e028585-ee1a-4ea6-abba-4e47a4e87e04"
      },
      "execution_count": null,
      "outputs": [
        {
          "output_type": "execute_result",
          "data": {
            "text/plain": [
              "['China', 'Russia']"
            ]
          },
          "metadata": {},
          "execution_count": 16
        }
      ]
    },
    {
      "cell_type": "code",
      "source": [
        "l1[:-2]"
      ],
      "metadata": {
        "colab": {
          "base_uri": "https://localhost:8080/"
        },
        "id": "xJLMWS-Ow0AW",
        "outputId": "8a7d9c6d-65f2-4a03-d8f1-8b11d5032106"
      },
      "execution_count": null,
      "outputs": [
        {
          "output_type": "execute_result",
          "data": {
            "text/plain": [
              "['India', 'USA']"
            ]
          },
          "metadata": {},
          "execution_count": 17
        }
      ]
    },
    {
      "cell_type": "code",
      "source": [
        "l1[::]"
      ],
      "metadata": {
        "colab": {
          "base_uri": "https://localhost:8080/"
        },
        "id": "Zmf5QOFD8jwh",
        "outputId": "6d5a2aad-5ba2-4193-c118-7cc91320bdae"
      },
      "execution_count": null,
      "outputs": [
        {
          "output_type": "execute_result",
          "data": {
            "text/plain": [
              "['India', 'USA', 'China', 'Russia']"
            ]
          },
          "metadata": {},
          "execution_count": 18
        }
      ]
    },
    {
      "cell_type": "code",
      "source": [
        "l1[::2]"
      ],
      "metadata": {
        "colab": {
          "base_uri": "https://localhost:8080/"
        },
        "id": "lVImUtMqAPpx",
        "outputId": "f07e7a62-a9dd-49a3-a5b0-41f137879235"
      },
      "execution_count": null,
      "outputs": [
        {
          "output_type": "execute_result",
          "data": {
            "text/plain": [
              "['India', 'China']"
            ]
          },
          "metadata": {},
          "execution_count": 19
        }
      ]
    },
    {
      "cell_type": "code",
      "source": [
        "l1[1:4:2]"
      ],
      "metadata": {
        "colab": {
          "base_uri": "https://localhost:8080/"
        },
        "id": "mW9iolfUCNmF",
        "outputId": "5295327e-bd28-4857-b92a-ba12224d283f"
      },
      "execution_count": null,
      "outputs": [
        {
          "output_type": "execute_result",
          "data": {
            "text/plain": [
              "['USA', 'Russia']"
            ]
          },
          "metadata": {},
          "execution_count": 20
        }
      ]
    },
    {
      "cell_type": "code",
      "source": [
        "L2=['Machine Learning','Deep Learning','Python','Tablaeu']"
      ],
      "metadata": {
        "id": "8JfOnMf-CpKi"
      },
      "execution_count": null,
      "outputs": []
    },
    {
      "cell_type": "code",
      "source": [
        "L2.append('statistic') #will add an element in the list at end of list"
      ],
      "metadata": {
        "id": "zgUI2QczNXE2"
      },
      "execution_count": null,
      "outputs": []
    },
    {
      "cell_type": "code",
      "source": [
        "print(L2)"
      ],
      "metadata": {
        "colab": {
          "base_uri": "https://localhost:8080/"
        },
        "id": "5lLfteDXNmiQ",
        "outputId": "f8cfec10-a16d-43c4-b0ae-1d57acc7194d"
      },
      "execution_count": null,
      "outputs": [
        {
          "output_type": "stream",
          "name": "stdout",
          "text": [
            "['Machine Learning', 'Deep Learning', 'Python', 'Tablaeu', 'statistic']\n"
          ]
        }
      ]
    },
    {
      "cell_type": "code",
      "source": [
        "L2.insert(2,'Tableau')# will add an element in the list at desired location of list"
      ],
      "metadata": {
        "id": "e3OCr8HON1EK"
      },
      "execution_count": null,
      "outputs": []
    },
    {
      "cell_type": "code",
      "source": [
        "print(L2)"
      ],
      "metadata": {
        "colab": {
          "base_uri": "https://localhost:8080/"
        },
        "id": "W7N7KXxFOs-b",
        "outputId": "c2b0e765-594c-43ba-dc5a-689f0eb653e7"
      },
      "execution_count": null,
      "outputs": [
        {
          "output_type": "stream",
          "name": "stdout",
          "text": [
            "['Machine Learning', 'Deep Learning', 'Tableau', 'Python', 'Tablaeu', 'statistic']\n"
          ]
        }
      ]
    },
    {
      "cell_type": "code",
      "source": [
        "L2.remove('Tableau')"
      ],
      "metadata": {
        "id": "npLjLwkhO_4b"
      },
      "execution_count": null,
      "outputs": []
    },
    {
      "cell_type": "code",
      "source": [
        "print(L2)"
      ],
      "metadata": {
        "colab": {
          "base_uri": "https://localhost:8080/"
        },
        "id": "mYf1CBLmPj94",
        "outputId": "56d40251-f630-438e-ecfc-01f427dbaae0"
      },
      "execution_count": null,
      "outputs": [
        {
          "output_type": "stream",
          "name": "stdout",
          "text": [
            "['Machine Learning', 'Deep Learning', 'Python', 'Tablaeu', 'statistic']\n"
          ]
        }
      ]
    },
    {
      "cell_type": "code",
      "source": [
        "L2.pop(2)"
      ],
      "metadata": {
        "colab": {
          "base_uri": "https://localhost:8080/",
          "height": 36
        },
        "id": "YMLEPDCZQwLk",
        "outputId": "35f33e7d-a8a0-445c-f231-768443a8ba72"
      },
      "execution_count": null,
      "outputs": [
        {
          "output_type": "execute_result",
          "data": {
            "text/plain": [
              "'Python'"
            ],
            "application/vnd.google.colaboratory.intrinsic+json": {
              "type": "string"
            }
          },
          "metadata": {},
          "execution_count": 28
        }
      ]
    },
    {
      "cell_type": "code",
      "source": [
        "print(L2)"
      ],
      "metadata": {
        "colab": {
          "base_uri": "https://localhost:8080/"
        },
        "id": "EOrGrgrdRk_H",
        "outputId": "d2373959-b243-4d9e-ecb6-820f75e73e79"
      },
      "execution_count": null,
      "outputs": [
        {
          "output_type": "stream",
          "name": "stdout",
          "text": [
            "['Machine Learning', 'Deep Learning', 'Tablaeu', 'statistic']\n"
          ]
        }
      ]
    },
    {
      "cell_type": "code",
      "source": [
        "L2.extend(['computer vision','R Programming','NLP','GAN'])#will multiple elements"
      ],
      "metadata": {
        "id": "55X9-xjIRvIs"
      },
      "execution_count": null,
      "outputs": []
    },
    {
      "cell_type": "code",
      "source": [
        "print(L2)"
      ],
      "metadata": {
        "colab": {
          "base_uri": "https://localhost:8080/"
        },
        "id": "0t5qwkIAS93o",
        "outputId": "b8769a4b-3595-483f-ab72-b7b9cb72b66c"
      },
      "execution_count": null,
      "outputs": [
        {
          "output_type": "stream",
          "name": "stdout",
          "text": [
            "['Machine Learning', 'Deep Learning', 'Tablaeu', 'statistic', 'computer vision', 'R Programming', 'NLP', 'GAN']\n"
          ]
        }
      ]
    },
    {
      "cell_type": "code",
      "source": [
        "len(L2)"
      ],
      "metadata": {
        "id": "X1L11j4vTBpI",
        "colab": {
          "base_uri": "https://localhost:8080/"
        },
        "outputId": "5892a6f7-746d-43e0-a07f-ab9310d85229"
      },
      "execution_count": null,
      "outputs": [
        {
          "output_type": "execute_result",
          "data": {
            "text/plain": [
              "8"
            ]
          },
          "metadata": {},
          "execution_count": 32
        }
      ]
    },
    {
      "cell_type": "code",
      "source": [
        "L3=[1,2,4,8,9,4,2,6,9,7,4,5,3,6,4,9,5,4,9,2]"
      ],
      "metadata": {
        "id": "5-AJ3z7UUlO4"
      },
      "execution_count": null,
      "outputs": []
    },
    {
      "cell_type": "code",
      "source": [
        "sum(L3)"
      ],
      "metadata": {
        "colab": {
          "base_uri": "https://localhost:8080/"
        },
        "id": "G97ciRLeX_Ej",
        "outputId": "b099f343-6e4f-4143-d5d2-e85054ce6c05"
      },
      "execution_count": null,
      "outputs": [
        {
          "output_type": "execute_result",
          "data": {
            "text/plain": [
              "103"
            ]
          },
          "metadata": {},
          "execution_count": 34
        }
      ]
    },
    {
      "cell_type": "code",
      "source": [
        "L3.count(4)#it will use to count the frequency of the particular value"
      ],
      "metadata": {
        "colab": {
          "base_uri": "https://localhost:8080/"
        },
        "id": "to_jHeWsYBRd",
        "outputId": "a6062b93-1d0a-4329-f355-cfeed1a06246"
      },
      "execution_count": null,
      "outputs": [
        {
          "output_type": "execute_result",
          "data": {
            "text/plain": [
              "5"
            ]
          },
          "metadata": {},
          "execution_count": 35
        }
      ]
    },
    {
      "cell_type": "markdown",
      "source": [
        "Data Structures in Python\n",
        "1.Dictioneries\n",
        "2.Tuples\n",
        "3.Sets"
      ],
      "metadata": {
        "id": "Yd4Z4soJg874"
      }
    },
    {
      "cell_type": "code",
      "source": [
        "#Dictioneries\n",
        "memo={'chips':20,'chocolates':200,'Ice cream':180,'Bread':45}"
      ],
      "metadata": {
        "id": "3VWnUh3ohITn"
      },
      "execution_count": null,
      "outputs": []
    },
    {
      "cell_type": "code",
      "source": [
        "memo['chocolates']"
      ],
      "metadata": {
        "colab": {
          "base_uri": "https://localhost:8080/"
        },
        "id": "5fi9p07phdE7",
        "outputId": "0962ad3f-e650-4358-c731-935d9c262497"
      },
      "execution_count": null,
      "outputs": [
        {
          "output_type": "execute_result",
          "data": {
            "text/plain": [
              "200"
            ]
          },
          "metadata": {},
          "execution_count": 37
        }
      ]
    },
    {
      "cell_type": "code",
      "source": [
        "memo['chips']"
      ],
      "metadata": {
        "colab": {
          "base_uri": "https://localhost:8080/"
        },
        "id": "T1jzUdsfiJZ_",
        "outputId": "06859d29-d9ec-443a-db98-dc232d268262"
      },
      "execution_count": null,
      "outputs": [
        {
          "output_type": "execute_result",
          "data": {
            "text/plain": [
              "20"
            ]
          },
          "metadata": {},
          "execution_count": 38
        }
      ]
    },
    {
      "cell_type": "code",
      "source": [
        "#adding new key value fair in a dictionery\n",
        "memo['Notebook']=200"
      ],
      "metadata": {
        "id": "Oj08EmqxiwEy"
      },
      "execution_count": null,
      "outputs": []
    },
    {
      "cell_type": "code",
      "source": [
        "print(memo)"
      ],
      "metadata": {
        "colab": {
          "base_uri": "https://localhost:8080/"
        },
        "id": "S59MFoefjuoe",
        "outputId": "5e79e0ed-9072-42d2-e628-4abfe593361f"
      },
      "execution_count": null,
      "outputs": [
        {
          "output_type": "stream",
          "name": "stdout",
          "text": [
            "{'chips': 20, 'chocolates': 200, 'Ice cream': 180, 'Bread': 45, 'Notebook': 200}\n"
          ]
        }
      ]
    },
    {
      "cell_type": "code",
      "source": [
        "memo['chips']=100"
      ],
      "metadata": {
        "id": "NzMO57u6j43_"
      },
      "execution_count": null,
      "outputs": []
    },
    {
      "cell_type": "code",
      "source": [
        "print(memo)"
      ],
      "metadata": {
        "colab": {
          "base_uri": "https://localhost:8080/"
        },
        "id": "n6nTzzmwlNZQ",
        "outputId": "f00f3608-904a-4037-cba1-8921e8e0f445"
      },
      "execution_count": null,
      "outputs": [
        {
          "output_type": "stream",
          "name": "stdout",
          "text": [
            "{'chips': 100, 'chocolates': 200, 'Ice cream': 180, 'Bread': 45, 'Notebook': 200}\n"
          ]
        }
      ]
    },
    {
      "cell_type": "code",
      "source": [
        "del memo['chips']"
      ],
      "metadata": {
        "id": "4sEJvZaKlV1m"
      },
      "execution_count": null,
      "outputs": []
    },
    {
      "cell_type": "code",
      "source": [
        "print(memo)"
      ],
      "metadata": {
        "colab": {
          "base_uri": "https://localhost:8080/"
        },
        "id": "w7mtQmEcl4zS",
        "outputId": "c5a793f2-cf7b-483a-e8d2-e7f59115038f"
      },
      "execution_count": null,
      "outputs": [
        {
          "output_type": "stream",
          "name": "stdout",
          "text": [
            "{'chocolates': 200, 'Ice cream': 180, 'Bread': 45, 'Notebook': 200}\n"
          ]
        }
      ]
    },
    {
      "cell_type": "markdown",
      "source": [
        "# TUPLES"
      ],
      "metadata": {
        "id": "jKAc1X5bbtst"
      }
    },
    {
      "cell_type": "code",
      "source": [
        "#Tuples\n",
        "#() Is used to create a tuples\n",
        "t=('India','Python',25,35,-25.2,-18.5)"
      ],
      "metadata": {
        "id": "gLM1XvqtmYN2"
      },
      "execution_count": null,
      "outputs": []
    },
    {
      "cell_type": "code",
      "source": [
        "type(t)"
      ],
      "metadata": {
        "colab": {
          "base_uri": "https://localhost:8080/"
        },
        "id": "02FYZtyXdWsJ",
        "outputId": "ae7870a7-b898-4dfb-a1c9-71d3a71f4b27"
      },
      "execution_count": null,
      "outputs": [
        {
          "output_type": "execute_result",
          "data": {
            "text/plain": [
              "tuple"
            ]
          },
          "metadata": {},
          "execution_count": 46
        }
      ]
    },
    {
      "cell_type": "code",
      "source": [
        "t[2]"
      ],
      "metadata": {
        "colab": {
          "base_uri": "https://localhost:8080/"
        },
        "id": "C02snqoidmSc",
        "outputId": "4dbc4e72-cb98-45fd-f02f-fb38da6bfa3e"
      },
      "execution_count": null,
      "outputs": [
        {
          "output_type": "execute_result",
          "data": {
            "text/plain": [
              "25"
            ]
          },
          "metadata": {},
          "execution_count": 47
        }
      ]
    },
    {
      "cell_type": "code",
      "source": [
        "t[3:5]"
      ],
      "metadata": {
        "colab": {
          "base_uri": "https://localhost:8080/"
        },
        "id": "PTLvvzfEdpsL",
        "outputId": "c2148cd1-540d-4fdb-949c-bae266700947"
      },
      "execution_count": null,
      "outputs": [
        {
          "output_type": "execute_result",
          "data": {
            "text/plain": [
              "(35, -25.2)"
            ]
          },
          "metadata": {},
          "execution_count": 48
        }
      ]
    },
    {
      "cell_type": "code",
      "source": [
        "t[:]"
      ],
      "metadata": {
        "colab": {
          "base_uri": "https://localhost:8080/"
        },
        "id": "KjUjY8rld6Mj",
        "outputId": "2e924e11-559a-4155-e4b7-ee60c986e973"
      },
      "execution_count": null,
      "outputs": [
        {
          "output_type": "execute_result",
          "data": {
            "text/plain": [
              "('India', 'Python', 25, 35, -25.2, -18.5)"
            ]
          },
          "metadata": {},
          "execution_count": 49
        }
      ]
    },
    {
      "cell_type": "code",
      "source": [
        "# Sets are used to define { } Brakets\n",
        "s={'India','Python',25,35,-25.2,-18.5}"
      ],
      "metadata": {
        "id": "Z30K7FeEeDUc"
      },
      "execution_count": null,
      "outputs": []
    },
    {
      "cell_type": "code",
      "source": [
        "print(s) #random inner shuffling"
      ],
      "metadata": {
        "colab": {
          "base_uri": "https://localhost:8080/"
        },
        "id": "u0KkeG9djCcA",
        "outputId": "3afa3cd2-9c8e-4500-97f2-09c099ce4a7b"
      },
      "execution_count": null,
      "outputs": [
        {
          "output_type": "stream",
          "name": "stdout",
          "text": [
            "{35, -25.2, 25, 'India', 'Python', -18.5}\n"
          ]
        }
      ]
    },
    {
      "cell_type": "markdown",
      "source": [
        "IF Else statements/Control Flow/Conditional Statements\n",
        "\n",
        "Take two numbers from the user and check which one is greater"
      ],
      "metadata": {
        "id": "_B42pyuDtD05"
      }
    },
    {
      "cell_type": "code",
      "source": [
        "x=int (input('enter value of x'))\n",
        "y=int(input('enter value of y'))\n",
        "\n",
        "if x>y:\n",
        "  print('x greater')\n",
        "\n",
        "else:\n",
        "    print('y is greater')"
      ],
      "metadata": {
        "colab": {
          "base_uri": "https://localhost:8080/"
        },
        "id": "xzg0929ZtCEe",
        "outputId": "f576f75d-fa67-4567-ecbf-6ec7ca552717"
      },
      "execution_count": null,
      "outputs": [
        {
          "output_type": "stream",
          "name": "stdout",
          "text": [
            "enter value of x40\n",
            "enter value of y50\n",
            "y is greater\n"
          ]
        }
      ]
    },
    {
      "cell_type": "code",
      "source": [
        "x=int (input('enter value of x'))\n",
        "y=int(input('enter value of y'))\n",
        "\n",
        "if x>y:\n",
        "  print('x greater')\n",
        "\n",
        "elif x==y:\n",
        "  print('Both the  values are same')\n",
        "\n",
        "else:\n",
        "    print('y is greater')"
      ],
      "metadata": {
        "colab": {
          "base_uri": "https://localhost:8080/"
        },
        "id": "C_DhwftJwXj6",
        "outputId": "9bc50117-0275-448e-8ba9-852074509fc7"
      },
      "execution_count": null,
      "outputs": [
        {
          "output_type": "stream",
          "name": "stdout",
          "text": [
            "enter value of x50\n",
            "enter value of y50\n",
            "Both the  values are same\n"
          ]
        }
      ]
    },
    {
      "cell_type": "markdown",
      "source": [
        "In a fare entery fee of children less than 4 years of age is free of cost, entry fee for children between the age 4-16 years 100 INR, the entry fee for more than that age is 175 INR.\n",
        "\n",
        "Take age is as input from the user and display the entery fee."
      ],
      "metadata": {
        "id": "ZeFlEKiLxL0f"
      }
    },
    {
      "cell_type": "code",
      "source": [
        "age=int(input('enter your age'))\n",
        "\n",
        "if age<4 :\n",
        "  print('free of cost')\n",
        "\n",
        "elif 4<=age<=16:\n",
        "  print('entry fee is 100 INR')\n",
        "\n",
        "else :\n",
        "  print('entry fee is 175 INR')"
      ],
      "metadata": {
        "colab": {
          "base_uri": "https://localhost:8080/"
        },
        "id": "ktUMlQfCymDh",
        "outputId": "d7df2f00-51aa-4647-a1fc-fc2073b0c61a"
      },
      "execution_count": null,
      "outputs": [
        {
          "output_type": "stream",
          "name": "stdout",
          "text": [
            "enter your age18\n",
            "entry fee is 175 INR\n"
          ]
        }
      ]
    },
    {
      "cell_type": "code",
      "source": [
        "age=int(input('enter your age'))\n",
        "\n",
        "if age<4 :\n",
        "  print('free of cost',age)\n",
        "\n",
        "elif 4<=age<=16:\n",
        "  print('entry fee is 100 INR',age)\n",
        "\n",
        "else :\n",
        "  print('entry fee is 175 INR',age)"
      ],
      "metadata": {
        "colab": {
          "base_uri": "https://localhost:8080/"
        },
        "id": "9aY9u2uM1wrG",
        "outputId": "eeab66d7-de88-4372-da0d-da09ef98eab2"
      },
      "execution_count": null,
      "outputs": [
        {
          "output_type": "stream",
          "name": "stdout",
          "text": [
            "enter your age75\n",
            "entry fee is 175 INR 75\n"
          ]
        }
      ]
    },
    {
      "cell_type": "markdown",
      "source": [
        "Take a number as input from the user and chek if the number is even or odd"
      ],
      "metadata": {
        "id": "8sRPkzWl4wbp"
      }
    },
    {
      "cell_type": "code",
      "source": [
        "x=int(input('enter the number'))\n",
        "\n",
        "if 0%2==0:\n",
        "  print('number is even')\n",
        "\n",
        "else:\n",
        "  print('number is odd')"
      ],
      "metadata": {
        "colab": {
          "base_uri": "https://localhost:8080/"
        },
        "id": "sHWgPuTC4VpD",
        "outputId": "4215756f-9ae1-469e-8b48-9ecc96d82745"
      },
      "execution_count": null,
      "outputs": [
        {
          "output_type": "stream",
          "name": "stdout",
          "text": [
            "enter the number50\n",
            "number is even\n"
          ]
        }
      ]
    },
    {
      "cell_type": "code",
      "source": [],
      "metadata": {
        "id": "jeva7Bwf6rmW"
      },
      "execution_count": null,
      "outputs": []
    }
  ]
}